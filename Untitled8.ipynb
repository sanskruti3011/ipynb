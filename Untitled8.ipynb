{
 "cells": [
  {
   "cell_type": "code",
   "execution_count": 1,
   "id": "ff4bc6e1-f4b0-481d-96d7-3510db8d276b",
   "metadata": {},
   "outputs": [],
   "source": [
    "import tkinter as tk"
   ]
  },
  {
   "cell_type": "code",
   "execution_count": 12,
   "id": "58370283-18be-4cf6-be28-0d7f6752d818",
   "metadata": {},
   "outputs": [
    {
     "ename": "TclError",
     "evalue": "cannot use geometry manager pack inside . which already has slaves managed by grid",
     "output_type": "error",
     "traceback": [
      "\u001b[1;31m---------------------------------------------------------------------------\u001b[0m",
      "\u001b[1;31mTclError\u001b[0m                                  Traceback (most recent call last)",
      "Cell \u001b[1;32mIn[12], line 6\u001b[0m\n\u001b[0;32m      4\u001b[0m top\u001b[38;5;241m.\u001b[39mgeometry(\u001b[38;5;124m'\u001b[39m\u001b[38;5;124m500x400\u001b[39m\u001b[38;5;124m'\u001b[39m)\n\u001b[0;32m      5\u001b[0m b1 \u001b[38;5;241m=\u001b[39m tk\u001b[38;5;241m.\u001b[39mButton(top,text \u001b[38;5;241m=\u001b[39m \u001b[38;5;124m'\u001b[39m\u001b[38;5;124mClick me!!!\u001b[39m\u001b[38;5;124m'\u001b[39m, bg \u001b[38;5;241m=\u001b[39m \u001b[38;5;124m'\u001b[39m\u001b[38;5;124mOrange\u001b[39m\u001b[38;5;124m'\u001b[39m)\u001b[38;5;241m.\u001b[39mgrid(column\u001b[38;5;241m=\u001b[39m\u001b[38;5;241m0\u001b[39m, row\u001b[38;5;241m=\u001b[39m\u001b[38;5;241m1\u001b[39m)\n\u001b[1;32m----> 6\u001b[0m e1 \u001b[38;5;241m=\u001b[39m tk\u001b[38;5;241m.\u001b[39mEntry(top)\u001b[38;5;241m.\u001b[39mpack()\n\u001b[0;32m      7\u001b[0m t1 \u001b[38;5;241m=\u001b[39m tk\u001b[38;5;241m.\u001b[39mtext(top)\u001b[38;5;241m.\u001b[39mpack()\n\u001b[0;32m      9\u001b[0m top\u001b[38;5;241m.\u001b[39mmainloop()\n",
      "File \u001b[1;32mC:\\ProgramData\\anaconda3\\Lib\\tkinter\\__init__.py:2452\u001b[0m, in \u001b[0;36mPack.pack_configure\u001b[1;34m(self, cnf, **kw)\u001b[0m\n\u001b[0;32m   2436\u001b[0m \u001b[38;5;28;01mdef\u001b[39;00m \u001b[38;5;21mpack_configure\u001b[39m(\u001b[38;5;28mself\u001b[39m, cnf\u001b[38;5;241m=\u001b[39m{}, \u001b[38;5;241m*\u001b[39m\u001b[38;5;241m*\u001b[39mkw):\n\u001b[0;32m   2437\u001b[0m \u001b[38;5;250m    \u001b[39m\u001b[38;5;124;03m\"\"\"Pack a widget in the parent widget. Use as options:\u001b[39;00m\n\u001b[0;32m   2438\u001b[0m \u001b[38;5;124;03m    after=widget - pack it after you have packed widget\u001b[39;00m\n\u001b[0;32m   2439\u001b[0m \u001b[38;5;124;03m    anchor=NSEW (or subset) - position widget according to\u001b[39;00m\n\u001b[1;32m   (...)\u001b[0m\n\u001b[0;32m   2450\u001b[0m \u001b[38;5;124;03m    side=TOP or BOTTOM or LEFT or RIGHT -  where to add this widget.\u001b[39;00m\n\u001b[0;32m   2451\u001b[0m \u001b[38;5;124;03m    \"\"\"\u001b[39;00m\n\u001b[1;32m-> 2452\u001b[0m     \u001b[38;5;28mself\u001b[39m\u001b[38;5;241m.\u001b[39mtk\u001b[38;5;241m.\u001b[39mcall(\n\u001b[0;32m   2453\u001b[0m           (\u001b[38;5;124m'\u001b[39m\u001b[38;5;124mpack\u001b[39m\u001b[38;5;124m'\u001b[39m, \u001b[38;5;124m'\u001b[39m\u001b[38;5;124mconfigure\u001b[39m\u001b[38;5;124m'\u001b[39m, \u001b[38;5;28mself\u001b[39m\u001b[38;5;241m.\u001b[39m_w)\n\u001b[0;32m   2454\u001b[0m           \u001b[38;5;241m+\u001b[39m \u001b[38;5;28mself\u001b[39m\u001b[38;5;241m.\u001b[39m_options(cnf, kw))\n",
      "\u001b[1;31mTclError\u001b[0m: cannot use geometry manager pack inside . which already has slaves managed by grid"
     ]
    }
   ],
   "source": [
    "top = tk.Tk()\n",
    "\n",
    "top.title('My Application')\n",
    "top.geometry('500x400')\n",
    "b1 = tk.Button(top,text = 'Click me!!!', bg = 'Orange').grid(column=0, row=1)\n",
    "e1 = tk.Entry(top).pack()\n",
    "t1 = tk.text(top).pack()\n",
    "\n",
    "top.mainloop()"
   ]
  },
  {
   "cell_type": "code",
   "execution_count": null,
   "id": "a5b6eb27-fed3-4668-a398-fa380bbdf579",
   "metadata": {},
   "outputs": [],
   "source": []
  }
 ],
 "metadata": {
  "kernelspec": {
   "display_name": "Python 3 (ipykernel)",
   "language": "python",
   "name": "python3"
  },
  "language_info": {
   "codemirror_mode": {
    "name": "ipython",
    "version": 3
   },
   "file_extension": ".py",
   "mimetype": "text/x-python",
   "name": "python",
   "nbconvert_exporter": "python",
   "pygments_lexer": "ipython3",
   "version": "3.11.7"
  }
 },
 "nbformat": 4,
 "nbformat_minor": 5
}
