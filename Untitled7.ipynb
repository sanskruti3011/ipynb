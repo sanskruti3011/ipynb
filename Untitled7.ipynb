{
 "cells": [
  {
   "cell_type": "code",
   "execution_count": 1,
   "id": "3d8cfdaa-234e-4e96-bebb-03f8a54fec2e",
   "metadata": {},
   "outputs": [],
   "source": [
    "class Employee():\n",
    "    pass"
   ]
  },
  {
   "cell_type": "code",
   "execution_count": 2,
   "id": "1cae0bf1-b6b5-4988-b5cf-1958c14321ac",
   "metadata": {},
   "outputs": [],
   "source": [
    "emp1 = Employee()\n",
    "emp2 = Employee()"
   ]
  },
  {
   "cell_type": "code",
   "execution_count": 3,
   "id": "1b797742-22cf-4111-8871-e7c174574030",
   "metadata": {},
   "outputs": [
    {
     "name": "stdout",
     "output_type": "stream",
     "text": [
      "<__main__.Employee object at 0x00000145467D15D0>\n",
      "<__main__.Employee object at 0x00000145467D3F90>\n"
     ]
    }
   ],
   "source": [
    "print(emp1)\n",
    "print(emp2)"
   ]
  },
  {
   "cell_type": "code",
   "execution_count": 4,
   "id": "5f00990b-c471-493a-9c1b-127632cd7f06",
   "metadata": {},
   "outputs": [],
   "source": [
    "emp1.first = 'Saurabh'\n",
    "emp1.last = 'Deokar'\n",
    "emp1.salary = 51000\n",
    "\n",
    "emp2.first = 'Sanskruti'\n",
    "emp2.last = 'kakade'\n",
    "emp2.salary = 42000"
   ]
  },
  {
   "cell_type": "code",
   "execution_count": 5,
   "id": "e0b41289-cb8a-478e-aa76-1b352502130d",
   "metadata": {},
   "outputs": [
    {
     "name": "stdout",
     "output_type": "stream",
     "text": [
      "Saurabh\n"
     ]
    }
   ],
   "source": [
    "print(emp1.first)"
   ]
  },
  {
   "cell_type": "code",
   "execution_count": 6,
   "id": "07a94f1f-9b16-4d9a-bb92-0119061477b8",
   "metadata": {},
   "outputs": [
    {
     "name": "stdout",
     "output_type": "stream",
     "text": [
      "42000\n"
     ]
    }
   ],
   "source": [
    "print(emp2.salary)"
   ]
  },
  {
   "cell_type": "code",
   "execution_count": 7,
   "id": "6a06bb17-8abb-4d9f-9ec2-63715a5ea52c",
   "metadata": {},
   "outputs": [
    {
     "name": "stdout",
     "output_type": "stream",
     "text": [
      "Deokar\n"
     ]
    }
   ],
   "source": [
    "print(emp1.last)"
   ]
  },
  {
   "cell_type": "code",
   "execution_count": 8,
   "id": "fb7bb085-ad4f-4635-81b7-085951313983",
   "metadata": {},
   "outputs": [
    {
     "name": "stdout",
     "output_type": "stream",
     "text": [
      "Sanskruti\n"
     ]
    }
   ],
   "source": [
    "print(emp2.first)"
   ]
  },
  {
   "cell_type": "code",
   "execution_count": 9,
   "id": "f9934841-c514-49cb-8559-409f67962e3a",
   "metadata": {},
   "outputs": [
    {
     "name": "stdout",
     "output_type": "stream",
     "text": [
      "51000\n"
     ]
    }
   ],
   "source": [
    "print(emp1.salary)"
   ]
  },
  {
   "cell_type": "code",
   "execution_count": 10,
   "id": "6f2c36d7-cd04-4dd3-91b8-b074a8e1b95a",
   "metadata": {},
   "outputs": [
    {
     "name": "stdout",
     "output_type": "stream",
     "text": [
      "kakade\n"
     ]
    }
   ],
   "source": [
    "print(emp2.last)"
   ]
  },
  {
   "cell_type": "code",
   "execution_count": 17,
   "id": "efc23d8e-a242-4384-8143-492505b343c5",
   "metadata": {},
   "outputs": [],
   "source": [
    "class Employee():\n",
    "    def __init__(self, first, last, salary):\n",
    "        self.first = first\n",
    "        self.last = last\n",
    "        self.salary = salary\n",
    "\n",
    "def show(self):\n",
    "    print(self.first + ' ' + 'ok')"
   ]
  },
  {
   "cell_type": "code",
   "execution_count": 15,
   "id": "7dc3629b-2454-40d5-9a0b-67d45806e537",
   "metadata": {},
   "outputs": [],
   "source": [
    "emp1 = Employee('Sanskrti', 'kakade', 78000)"
   ]
  },
  {
   "cell_type": "code",
   "execution_count": 14,
   "id": "97d9b088-222c-4098-8632-62250fbbeb6b",
   "metadata": {},
   "outputs": [
    {
     "name": "stdout",
     "output_type": "stream",
     "text": [
      "Sanskrti\n"
     ]
    }
   ],
   "source": [
    "print(emp1.first)"
   ]
  },
  {
   "cell_type": "code",
   "execution_count": 19,
   "id": "3ef1d07a-44e9-4233-bf8d-b26a1b337c8c",
   "metadata": {},
   "outputs": [],
   "source": [
    "emp2 = Employee('Sania', 'mulani', 78000)"
   ]
  },
  {
   "cell_type": "code",
   "execution_count": 26,
   "id": "563bfcbd-14a9-4eee-b549-4de5761ccc5e",
   "metadata": {},
   "outputs": [],
   "source": [
    "class Employee():\n",
    "    def __init__(self, first, last, salary):\n",
    "        self.first = first\n",
    "        self.last = last\n",
    "        self.__salary = salary\n",
    "\n",
    "def show(self):\n",
    "    print(self.__salary)"
   ]
  },
  {
   "cell_type": "code",
   "execution_count": 22,
   "id": "5d58febc-115b-4899-a8f0-11a57c61ed29",
   "metadata": {},
   "outputs": [],
   "source": [
    "emp1 = Employee('Saurabh', 'Deokar', 78000)\n",
    "emp2 = Employee('Sanskrti', 'kakade', 68000)"
   ]
  },
  {
   "cell_type": "code",
   "execution_count": 23,
   "id": "03145ea7-61f6-49f4-8b5a-34ffb84b8c01",
   "metadata": {},
   "outputs": [
    {
     "name": "stdout",
     "output_type": "stream",
     "text": [
      "Saurabh\n"
     ]
    }
   ],
   "source": [
    "print(emp1.first)"
   ]
  },
  {
   "cell_type": "code",
   "execution_count": 36,
   "id": "c31acc70-9f8b-401f-bac9-2a1193be52ef",
   "metadata": {},
   "outputs": [],
   "source": [
    "class Employee(emp1):\n",
    "    pass"
   ]
  },
  {
   "cell_type": "code",
   "execution_count": 39,
   "id": "85a34648-4918-4f81-8a91-78193f859e99",
   "metadata": {},
   "outputs": [
    {
     "ename": "TypeError",
     "evalue": "'Employee' object is not callable",
     "output_type": "error",
     "traceback": [
      "\u001b[1;31m---------------------------------------------------------------------------\u001b[0m",
      "\u001b[1;31mTypeError\u001b[0m                                 Traceback (most recent call last)",
      "Cell \u001b[1;32mIn[39], line 1\u001b[0m\n\u001b[1;32m----> 1\u001b[0m emp1 \u001b[38;5;241m=\u001b[39m Employee(\u001b[38;5;124m'\u001b[39m\u001b[38;5;124mSaurabh\u001b[39m\u001b[38;5;124m'\u001b[39m, \u001b[38;5;124m'\u001b[39m\u001b[38;5;124mDeokar\u001b[39m\u001b[38;5;124m'\u001b[39m, \u001b[38;5;241m78000\u001b[39m)\n",
      "\u001b[1;31mTypeError\u001b[0m: 'Employee' object is not callable"
     ]
    }
   ],
   "source": [
    "emp1 = Employee('Saurabh', 'Deokar', 78000)"
   ]
  },
  {
   "cell_type": "code",
   "execution_count": 40,
   "id": "f7581914-8cfb-4851-b2c8-2001b165dd55",
   "metadata": {},
   "outputs": [],
   "source": [
    "'''\n",
    "#create a class called person\n",
    "attribtes=>name, age, city,....(make use of default parameters also) create a method which will show all the info of a person.\n",
    "'''\n",
    "\n",
    "class person():\n",
    "    def __init__(self, n, a=25):\n",
    "        self.name=n\n",
    "        self.age=a\n",
    "\n",
    "def info(self):\n",
    "    print('name', self.name)\n",
    "    print('age', self.age)"
   ]
  },
  {
   "cell_type": "code",
   "execution_count": null,
   "id": "39d8f11f-eb46-467b-b3a1-d8364579e7d4",
   "metadata": {},
   "outputs": [],
   "source": [
    "p1 = person("
   ]
  }
 ],
 "metadata": {
  "kernelspec": {
   "display_name": "Python 3 (ipykernel)",
   "language": "python",
   "name": "python3"
  },
  "language_info": {
   "codemirror_mode": {
    "name": "ipython",
    "version": 3
   },
   "file_extension": ".py",
   "mimetype": "text/x-python",
   "name": "python",
   "nbconvert_exporter": "python",
   "pygments_lexer": "ipython3",
   "version": "3.11.7"
  }
 },
 "nbformat": 4,
 "nbformat_minor": 5
}
