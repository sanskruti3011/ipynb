{
 "cells": [
  {
   "cell_type": "code",
   "execution_count": 1,
   "id": "de849581-3e16-4a96-bb5a-279950b3c1a7",
   "metadata": {},
   "outputs": [
    {
     "ename": "NameError",
     "evalue": "name 'new' is not defined",
     "output_type": "error",
     "traceback": [
      "\u001b[1;31m---------------------------------------------------------------------------\u001b[0m",
      "\u001b[1;31mNameError\u001b[0m                                 Traceback (most recent call last)",
      "Cell \u001b[1;32mIn[1], line 3\u001b[0m\n\u001b[0;32m      1\u001b[0m new \u001b[38;5;241m=\u001b[39m [\u001b[38;5;241m34\u001b[39m, \u001b[38;5;241m56\u001b[39m,\u001b[38;5;241m78\u001b[39m]\n\u001b[0;32m      2\u001b[0m \u001b[38;5;28;01mdel\u001b[39;00m new\n\u001b[1;32m----> 3\u001b[0m new\n",
      "\u001b[1;31mNameError\u001b[0m: name 'new' is not defined"
     ]
    }
   ],
   "source": [
    "new = [34, 56,78]\n",
    "del new\n",
    "new"
   ]
  },
  {
   "cell_type": "code",
   "execution_count": 2,
   "id": "3153dad7-55a2-43e9-aac5-e298a7227921",
   "metadata": {},
   "outputs": [
    {
     "name": "stdout",
     "output_type": "stream",
     "text": [
      "[12, 74, 23, 84, 14, 67, 13]\n"
     ]
    }
   ],
   "source": [
    "l = [12,74,23,84,14,67,13]\n",
    "print(l)\n"
   ]
  },
  {
   "cell_type": "code",
   "execution_count": 3,
   "id": "34e50840-4c34-401a-b865-19b799544db9",
   "metadata": {},
   "outputs": [
    {
     "data": {
      "text/plain": [
       "True"
      ]
     },
     "execution_count": 3,
     "metadata": {},
     "output_type": "execute_result"
    }
   ],
   "source": [
    "84 in l"
   ]
  },
  {
   "cell_type": "code",
   "execution_count": 4,
   "id": "bf847e5b-b9a4-4c4d-95fc-bbadeb3152b1",
   "metadata": {},
   "outputs": [
    {
     "data": {
      "text/plain": [
       "False"
      ]
     },
     "execution_count": 4,
     "metadata": {},
     "output_type": "execute_result"
    }
   ],
   "source": [
    "98 in l"
   ]
  },
  {
   "cell_type": "code",
   "execution_count": 5,
   "id": "6cfbc243-312a-480e-8f7e-97a2fe0cc508",
   "metadata": {},
   "outputs": [
    {
     "data": {
      "text/plain": [
       "[12, 74, 23, 84, 14, 67, 13]"
      ]
     },
     "execution_count": 5,
     "metadata": {},
     "output_type": "execute_result"
    }
   ],
   "source": [
    "# arithemetic operator\n",
    "l"
   ]
  },
  {
   "cell_type": "code",
   "execution_count": 6,
   "id": "61f236e5-6bce-4bcb-9ad5-34ef80c62544",
   "metadata": {},
   "outputs": [
    {
     "data": {
      "text/plain": [
       "[12, 74, 23, 84, 14, 67, 13, 12, 74, 23, 84, 14, 67, 13]"
      ]
     },
     "execution_count": 6,
     "metadata": {},
     "output_type": "execute_result"
    }
   ],
   "source": [
    "l*2"
   ]
  },
  {
   "cell_type": "code",
   "execution_count": 7,
   "id": "f3de14a1-dcbd-4dd2-a7db-02d847280f73",
   "metadata": {},
   "outputs": [
    {
     "data": {
      "text/plain": [
       "[12, 74, 23, 84, 14, 67, 13, 12, 56]"
      ]
     },
     "execution_count": 7,
     "metadata": {},
     "output_type": "execute_result"
    }
   ],
   "source": [
    "l + [12,56]"
   ]
  },
  {
   "cell_type": "code",
   "execution_count": 8,
   "id": "40924486-c4bb-4474-935c-d583ebd89d89",
   "metadata": {},
   "outputs": [
    {
     "data": {
      "text/plain": [
       "[12, 74, 23, 84, 14, 67, 13]"
      ]
     },
     "execution_count": 8,
     "metadata": {},
     "output_type": "execute_result"
    }
   ],
   "source": [
    "l"
   ]
  },
  {
   "cell_type": "code",
   "execution_count": 9,
   "id": "098ec8ff-b597-48dd-9a78-9618e67d7fa1",
   "metadata": {},
   "outputs": [],
   "source": [
    "l1=[56,True, 44.33]"
   ]
  },
  {
   "cell_type": "code",
   "execution_count": 10,
   "id": "41fd2597-a781-4d96-98c3-3c1e443694e9",
   "metadata": {},
   "outputs": [
    {
     "data": {
      "text/plain": [
       "[12, 74, 23, 84, 14, 67, 13, 56, True, 44.33]"
      ]
     },
     "execution_count": 10,
     "metadata": {},
     "output_type": "execute_result"
    }
   ],
   "source": [
    "l+l1"
   ]
  },
  {
   "cell_type": "code",
   "execution_count": 11,
   "id": "fdd7996f-969f-4338-a1f2-1a8732614946",
   "metadata": {},
   "outputs": [
    {
     "data": {
      "text/plain": [
       "[12, 74, 23, 84, 14, 67, 13]"
      ]
     },
     "execution_count": 11,
     "metadata": {},
     "output_type": "execute_result"
    }
   ],
   "source": [
    "#iterating over the list\n",
    "\n",
    "l"
   ]
  },
  {
   "cell_type": "code",
   "execution_count": 12,
   "id": "8fc6ba4c-2dec-4e54-bdaa-9c2910924404",
   "metadata": {},
   "outputs": [
    {
     "name": "stdout",
     "output_type": "stream",
     "text": [
      "144  5476  529  7056  196  4489  169  "
     ]
    }
   ],
   "source": [
    "for n in l:\n",
    "    print(n*n, end ='  ')"
   ]
  },
  {
   "cell_type": "code",
   "execution_count": 18,
   "id": "91446b7a-5c2c-4122-a002-f9bc620d2e67",
   "metadata": {},
   "outputs": [
    {
     "ename": "IndentationError",
     "evalue": "expected an indented block after 'if' statement on line 2 (2798263064.py, line 3)",
     "output_type": "error",
     "traceback": [
      "\u001b[1;36m  Cell \u001b[1;32mIn[18], line 3\u001b[1;36m\u001b[0m\n\u001b[1;33m    print(n, end = '  ')\u001b[0m\n\u001b[1;37m    ^\u001b[0m\n\u001b[1;31mIndentationError\u001b[0m\u001b[1;31m:\u001b[0m expected an indented block after 'if' statement on line 2\n"
     ]
    }
   ],
   "source": [
    "for n in l:\n",
    "    if n % 2 !=0:\n",
    "    print(n, end = '  ')"
   ]
  },
  {
   "cell_type": "code",
   "execution_count": 19,
   "id": "821d0760-7658-4ad8-b3b8-04caac5aa08a",
   "metadata": {},
   "outputs": [
    {
     "data": {
      "text/plain": [
       "[12, 74, 23, 84, 14, 67, 13]"
      ]
     },
     "execution_count": 19,
     "metadata": {},
     "output_type": "execute_result"
    }
   ],
   "source": [
    "l"
   ]
  },
  {
   "cell_type": "code",
   "execution_count": 22,
   "id": "e4b1ab76-5372-4e7d-836f-8bb97814773e",
   "metadata": {},
   "outputs": [
    {
     "data": {
      "text/plain": [
       "[6.0, 37.0, 11.5, 42.0, 7.0, 33.5, 6.5]"
      ]
     },
     "execution_count": 22,
     "metadata": {},
     "output_type": "execute_result"
    }
   ],
   "source": [
    "# map\n",
    "\n",
    "a = [ n/2 for n in l]\n",
    "a"
   ]
  },
  {
   "cell_type": "code",
   "execution_count": 23,
   "id": "4d2a6450-9b70-45ab-b173-4608b21e4bfe",
   "metadata": {},
   "outputs": [
    {
     "data": {
      "text/plain": [
       "list"
      ]
     },
     "execution_count": 23,
     "metadata": {},
     "output_type": "execute_result"
    }
   ],
   "source": [
    "type(a)"
   ]
  },
  {
   "cell_type": "code",
   "execution_count": 24,
   "id": "c0c59753-6a92-4b54-b575-d613dd8581f5",
   "metadata": {},
   "outputs": [
    {
     "data": {
      "text/plain": [
       "[144, 5476, 529, 7056, 196, 4489, 169]"
      ]
     },
     "execution_count": 24,
     "metadata": {},
     "output_type": "execute_result"
    }
   ],
   "source": [
    "[n*n for n in l]"
   ]
  },
  {
   "cell_type": "code",
   "execution_count": 25,
   "id": "decbb601-57a5-4ce0-9c02-fa792ce93d1c",
   "metadata": {},
   "outputs": [
    {
     "data": {
      "text/plain": [
       "[12, 74, 23, 84, 14, 67, 13]"
      ]
     },
     "execution_count": 25,
     "metadata": {},
     "output_type": "execute_result"
    }
   ],
   "source": [
    "l"
   ]
  },
  {
   "cell_type": "code",
   "execution_count": 26,
   "id": "e5fc44b8-8fff-4d33-8850-936aa4eef726",
   "metadata": {},
   "outputs": [],
   "source": [
    "b=[n for n in l if n>40]"
   ]
  },
  {
   "cell_type": "code",
   "execution_count": 27,
   "id": "b04a6c8c-c739-48c1-8418-b056ca814787",
   "metadata": {},
   "outputs": [
    {
     "data": {
      "text/plain": [
       "[74, 84, 67]"
      ]
     },
     "execution_count": 27,
     "metadata": {},
     "output_type": "execute_result"
    }
   ],
   "source": [
    "b"
   ]
  },
  {
   "cell_type": "code",
   "execution_count": 35,
   "id": "18077d57-c3cc-4dd2-a328-1f843ba8dca9",
   "metadata": {},
   "outputs": [],
   "source": [
    "names = ['SAURABH', 'sanskruti', 'anish', 'parth', 'saniya', 'sakshi']"
   ]
  },
  {
   "cell_type": "code",
   "execution_count": 36,
   "id": "86515aa2-5a59-42da-af02-c4d9d6baccf0",
   "metadata": {},
   "outputs": [
    {
     "data": {
      "text/plain": [
       "['SAURABH']"
      ]
     },
     "execution_count": 36,
     "metadata": {},
     "output_type": "execute_result"
    }
   ],
   "source": [
    "[n for n in names if n.isupper()]"
   ]
  },
  {
   "cell_type": "code",
   "execution_count": 37,
   "id": "b9207e5b-b65c-4b84-ab45-ef1cfa83b5d8",
   "metadata": {},
   "outputs": [
    {
     "data": {
      "text/plain": [
       "[12, 74, 23, 84, 14, 67, 13]"
      ]
     },
     "execution_count": 37,
     "metadata": {},
     "output_type": "execute_result"
    }
   ],
   "source": [
    "l"
   ]
  },
  {
   "cell_type": "code",
   "execution_count": 38,
   "id": "70397c2d-c25a-4734-b4da-5720707189d4",
   "metadata": {},
   "outputs": [],
   "source": [
    "l.reverse()"
   ]
  },
  {
   "cell_type": "code",
   "execution_count": 39,
   "id": "69f09347-2c8e-4a92-8225-1633319998db",
   "metadata": {},
   "outputs": [
    {
     "data": {
      "text/plain": [
       "[13, 67, 14, 84, 23, 74, 12]"
      ]
     },
     "execution_count": 39,
     "metadata": {},
     "output_type": "execute_result"
    }
   ],
   "source": [
    "l"
   ]
  },
  {
   "cell_type": "code",
   "execution_count": 40,
   "id": "68bf9337-8c20-409b-ba7d-0c1a8012797d",
   "metadata": {},
   "outputs": [
    {
     "data": {
      "text/plain": [
       "[12, 13, 14, 23, 67, 74, 84]"
      ]
     },
     "execution_count": 40,
     "metadata": {},
     "output_type": "execute_result"
    }
   ],
   "source": [
    "l.sort()\n",
    "l"
   ]
  },
  {
   "cell_type": "code",
   "execution_count": 42,
   "id": "5fbfe725-dead-43af-baae-0f2e4fc8645a",
   "metadata": {},
   "outputs": [
    {
     "data": {
      "text/plain": [
       "2"
      ]
     },
     "execution_count": 42,
     "metadata": {},
     "output_type": "execute_result"
    }
   ],
   "source": [
    "l.index(14)"
   ]
  },
  {
   "cell_type": "code",
   "execution_count": 43,
   "id": "98de40a4-ecfd-4092-b248-615591b68c48",
   "metadata": {},
   "outputs": [
    {
     "name": "stdout",
     "output_type": "stream",
     "text": [
      "(64, 92, 15, 26, 16, 26, 34)\n"
     ]
    }
   ],
   "source": [
    "l=(64,92,15,26,16,26,34)\n",
    "print(l)"
   ]
  },
  {
   "cell_type": "code",
   "execution_count": 44,
   "id": "b9040282-d945-426a-ad0f-622d0c62ad01",
   "metadata": {},
   "outputs": [
    {
     "ename": "TypeError",
     "evalue": "slice indices must be integers or have an __index__ method",
     "output_type": "error",
     "traceback": [
      "\u001b[1;31m---------------------------------------------------------------------------\u001b[0m",
      "\u001b[1;31mTypeError\u001b[0m                                 Traceback (most recent call last)",
      "Cell \u001b[1;32mIn[44], line 1\u001b[0m\n\u001b[1;32m----> 1\u001b[0m l\u001b[38;5;241m.\u001b[39mindex(\u001b[38;5;124m'\u001b[39m\u001b[38;5;124m1:64\u001b[39m\u001b[38;5;124m'\u001b[39m, \u001b[38;5;124m'\u001b[39m\u001b[38;5;124m2:92\u001b[39m\u001b[38;5;124m'\u001b[39m)\n\u001b[0;32m      2\u001b[0m l\n",
      "\u001b[1;31mTypeError\u001b[0m: slice indices must be integers or have an __index__ method"
     ]
    }
   ],
   "source": [
    "l.index('1:64', '2:92')\n",
    "l"
   ]
  },
  {
   "cell_type": "code",
   "execution_count": 45,
   "id": "8aade4c6-6407-41af-b334-17b323c79b1f",
   "metadata": {},
   "outputs": [
    {
     "data": {
      "text/plain": [
       "(64, 92, 15, 26, 16, 26, 34)"
      ]
     },
     "execution_count": 45,
     "metadata": {},
     "output_type": "execute_result"
    }
   ],
   "source": [
    "l"
   ]
  },
  {
   "cell_type": "code",
   "execution_count": 46,
   "id": "b769ae9c-6956-45d7-bf29-dccb42df0150",
   "metadata": {},
   "outputs": [
    {
     "name": "stdout",
     "output_type": "stream",
     "text": [
      "0 64\n",
      "1 92\n",
      "2 15\n",
      "3 26\n",
      "4 16\n",
      "5 26\n",
      "6 34\n"
     ]
    },
    {
     "ename": "IndexError",
     "evalue": "tuple index out of range",
     "output_type": "error",
     "traceback": [
      "\u001b[1;31m---------------------------------------------------------------------------\u001b[0m",
      "\u001b[1;31mIndexError\u001b[0m                                Traceback (most recent call last)",
      "Cell \u001b[1;32mIn[46], line 3\u001b[0m\n\u001b[0;32m      1\u001b[0m i\u001b[38;5;241m=\u001b[39m\u001b[38;5;241m0\u001b[39m\n\u001b[0;32m      2\u001b[0m \u001b[38;5;28;01mwhile\u001b[39;00m i\u001b[38;5;241m<\u001b[39m\u001b[38;5;241m=\u001b[39ml[\u001b[38;5;241m-\u001b[39m\u001b[38;5;241m1\u001b[39m]:\n\u001b[1;32m----> 3\u001b[0m     \u001b[38;5;28mprint\u001b[39m(i, l[i])\n\u001b[0;32m      4\u001b[0m     i \u001b[38;5;241m+\u001b[39m\u001b[38;5;241m=\u001b[39m \u001b[38;5;241m1\u001b[39m\n",
      "\u001b[1;31mIndexError\u001b[0m: tuple index out of range"
     ]
    }
   ],
   "source": [
    "i=0\n",
    "while i<=l[-1]:\n",
    "    print(i, l[i])\n",
    "    i += 1"
   ]
  },
  {
   "cell_type": "code",
   "execution_count": 47,
   "id": "974b99dd-a1e8-4b03-9c3b-57b1919c191d",
   "metadata": {},
   "outputs": [
    {
     "data": {
      "text/plain": [
       "(64, 92, 15, 26, 16, 26, 34)"
      ]
     },
     "execution_count": 47,
     "metadata": {},
     "output_type": "execute_result"
    }
   ],
   "source": [
    "l"
   ]
  },
  {
   "cell_type": "code",
   "execution_count": 48,
   "id": "fa0b2664-973c-40c1-bebf-21ac5b1fa052",
   "metadata": {},
   "outputs": [
    {
     "name": "stdout",
     "output_type": "stream",
     "text": [
      "0 64\n",
      "1 92\n",
      "2 15\n",
      "3 26\n",
      "4 16\n",
      "3 26\n",
      "6 34\n"
     ]
    }
   ],
   "source": [
    "for n in l:\n",
    "    print(l.index(n), n)"
   ]
  },
  {
   "cell_type": "code",
   "execution_count": 50,
   "id": "d3c306d8-8fa7-4b2a-94de-1d3d911d1e23",
   "metadata": {},
   "outputs": [
    {
     "name": "stdout",
     "output_type": "stream",
     "text": [
      "0 64\n",
      "1 92\n",
      "2 15\n",
      "3 26\n",
      "4 16\n",
      "5 26\n",
      "6 34\n"
     ]
    }
   ],
   "source": [
    "for index, n in enumerate (l):\n",
    "    print(index,n)"
   ]
  },
  {
   "cell_type": "code",
   "execution_count": null,
   "id": "8ab85dac-dc56-4036-9c23-fe5657e22b56",
   "metadata": {},
   "outputs": [],
   "source": [
    "####Shallow copy"
   ]
  },
  {
   "cell_type": "code",
   "execution_count": 51,
   "id": "9a9fd4ee-9c7c-46ab-965e-3e177998320e",
   "metadata": {},
   "outputs": [
    {
     "data": {
      "text/plain": [
       "[34, 45, 56]"
      ]
     },
     "execution_count": 51,
     "metadata": {},
     "output_type": "execute_result"
    }
   ],
   "source": [
    "l1 = [34,45,56]\n",
    "l2=l1\n",
    "l2"
   ]
  },
  {
   "cell_type": "code",
   "execution_count": 52,
   "id": "2e0ed924-4d8a-4740-b210-142a4fcb71eb",
   "metadata": {},
   "outputs": [
    {
     "data": {
      "text/plain": [
       "[34, 45, 56, 2]"
      ]
     },
     "execution_count": 52,
     "metadata": {},
     "output_type": "execute_result"
    }
   ],
   "source": [
    "l1.append(2)\n",
    "l2"
   ]
  },
  {
   "cell_type": "code",
   "execution_count": 53,
   "id": "e19a3c28-5180-4684-a708-1cc27d749292",
   "metadata": {},
   "outputs": [
    {
     "data": {
      "text/plain": [
       "[34, 45, 56, 2]"
      ]
     },
     "execution_count": 53,
     "metadata": {},
     "output_type": "execute_result"
    }
   ],
   "source": [
    "l3=l1.copy()\n",
    "l3"
   ]
  },
  {
   "cell_type": "code",
   "execution_count": 54,
   "id": "4835294d-4a99-4b13-a36b-f6be5f052ba0",
   "metadata": {},
   "outputs": [
    {
     "data": {
      "text/plain": [
       "[34, 45, 56, 2, 1000]"
      ]
     },
     "execution_count": 54,
     "metadata": {},
     "output_type": "execute_result"
    }
   ],
   "source": [
    "l1.append(1000)\n",
    "l1"
   ]
  },
  {
   "cell_type": "code",
   "execution_count": 55,
   "id": "5c3a526d-6d1b-4a45-9895-a4a86c0bbb9e",
   "metadata": {},
   "outputs": [
    {
     "data": {
      "text/plain": [
       "[34, 45, 56, 2, 1000]"
      ]
     },
     "execution_count": 55,
     "metadata": {},
     "output_type": "execute_result"
    }
   ],
   "source": [
    "l1"
   ]
  },
  {
   "cell_type": "code",
   "execution_count": 56,
   "id": "1092a167-53ef-4ac7-9185-4d524b8c7652",
   "metadata": {},
   "outputs": [
    {
     "data": {
      "text/plain": [
       "[34, 45, 56, 2, 1000]"
      ]
     },
     "execution_count": 56,
     "metadata": {},
     "output_type": "execute_result"
    }
   ],
   "source": [
    "l2"
   ]
  },
  {
   "cell_type": "code",
   "execution_count": 57,
   "id": "a29030fb-4fb5-4309-ab66-24e9802ba1d5",
   "metadata": {},
   "outputs": [
    {
     "data": {
      "text/plain": [
       "[34, 45, 56, 2]"
      ]
     },
     "execution_count": 57,
     "metadata": {},
     "output_type": "execute_result"
    }
   ],
   "source": [
    "l3"
   ]
  },
  {
   "cell_type": "code",
   "execution_count": 59,
   "id": "10d54ec4-904d-48a2-bdc7-ad01c88e0ae5",
   "metadata": {},
   "outputs": [
    {
     "data": {
      "text/plain": [
       "[34, 45, 56, 2, 1000, [12, 34]]"
      ]
     },
     "execution_count": 59,
     "metadata": {},
     "output_type": "execute_result"
    }
   ],
   "source": [
    "l1.append([12,34])\n",
    "l1"
   ]
  },
  {
   "cell_type": "code",
   "execution_count": 60,
   "id": "ec3b0eb7-e195-45ae-8e0c-5e958999e45b",
   "metadata": {},
   "outputs": [
    {
     "data": {
      "text/plain": [
       "[34, 45, 56, 2, 1000, [12, 34], 200]"
      ]
     },
     "execution_count": 60,
     "metadata": {},
     "output_type": "execute_result"
    }
   ],
   "source": [
    "l1.append(200)\n",
    "l1"
   ]
  },
  {
   "cell_type": "code",
   "execution_count": 61,
   "id": "3524b511-5a76-44bb-b040-ba2a293ae73f",
   "metadata": {},
   "outputs": [
    {
     "data": {
      "text/plain": [
       "[34, 45, 56, 2]"
      ]
     },
     "execution_count": 61,
     "metadata": {},
     "output_type": "execute_result"
    }
   ],
   "source": [
    "l3"
   ]
  },
  {
   "cell_type": "code",
   "execution_count": 63,
   "id": "d1ca9160-eb57-4328-9339-fbc675043ca0",
   "metadata": {},
   "outputs": [
    {
     "data": {
      "text/plain": [
       "[34, 45, 56, 2, 1000, [12, 34, 100], 200]"
      ]
     },
     "execution_count": 63,
     "metadata": {},
     "output_type": "execute_result"
    }
   ],
   "source": [
    "l1[-2].append(100)\n",
    "l1"
   ]
  },
  {
   "cell_type": "code",
   "execution_count": 64,
   "id": "38aa76e6-a8c2-482a-b70c-138684bec132",
   "metadata": {},
   "outputs": [
    {
     "data": {
      "text/plain": [
       "[34, 45, 56, 2, 1000, [12, 34, 100], 200]"
      ]
     },
     "execution_count": 64,
     "metadata": {},
     "output_type": "execute_result"
    }
   ],
   "source": [
    "l1"
   ]
  },
  {
   "cell_type": "code",
   "execution_count": 65,
   "id": "645fbedd-6079-4fd0-9cc6-f9e6aaa3ac55",
   "metadata": {},
   "outputs": [
    {
     "data": {
      "text/plain": [
       "[34, 45, 56, 2, 1000, [12, 34, 100], 200]"
      ]
     },
     "execution_count": 65,
     "metadata": {},
     "output_type": "execute_result"
    }
   ],
   "source": [
    "l2"
   ]
  },
  {
   "cell_type": "code",
   "execution_count": 66,
   "id": "de831d8c-e4fd-48a7-b649-78eb854948ec",
   "metadata": {},
   "outputs": [
    {
     "data": {
      "text/plain": [
       "[34, 45, 56, 2]"
      ]
     },
     "execution_count": 66,
     "metadata": {},
     "output_type": "execute_result"
    }
   ],
   "source": [
    "l3"
   ]
  },
  {
   "cell_type": "code",
   "execution_count": 68,
   "id": "8d7e5289-929f-4d9a-9e96-f8e2814e77d3",
   "metadata": {},
   "outputs": [
    {
     "name": "stdout",
     "output_type": "stream",
     "text": [
      "Help on class list in module builtins:\n",
      "\n",
      "class list(object)\n",
      " |  list(iterable=(), /)\n",
      " |  \n",
      " |  Built-in mutable sequence.\n",
      " |  \n",
      " |  If no argument is given, the constructor creates a new empty list.\n",
      " |  The argument must be an iterable if specified.\n",
      " |  \n",
      " |  Methods defined here:\n",
      " |  \n",
      " |  __add__(self, value, /)\n",
      " |      Return self+value.\n",
      " |  \n",
      " |  __contains__(self, key, /)\n",
      " |      Return key in self.\n",
      " |  \n",
      " |  __delitem__(self, key, /)\n",
      " |      Delete self[key].\n",
      " |  \n",
      " |  __eq__(self, value, /)\n",
      " |      Return self==value.\n",
      " |  \n",
      " |  __ge__(self, value, /)\n",
      " |      Return self>=value.\n",
      " |  \n",
      " |  __getattribute__(self, name, /)\n",
      " |      Return getattr(self, name).\n",
      " |  \n",
      " |  __getitem__(...)\n",
      " |      x.__getitem__(y) <==> x[y]\n",
      " |  \n",
      " |  __gt__(self, value, /)\n",
      " |      Return self>value.\n",
      " |  \n",
      " |  __iadd__(self, value, /)\n",
      " |      Implement self+=value.\n",
      " |  \n",
      " |  __imul__(self, value, /)\n",
      " |      Implement self*=value.\n",
      " |  \n",
      " |  __init__(self, /, *args, **kwargs)\n",
      " |      Initialize self.  See help(type(self)) for accurate signature.\n",
      " |  \n",
      " |  __iter__(self, /)\n",
      " |      Implement iter(self).\n",
      " |  \n",
      " |  __le__(self, value, /)\n",
      " |      Return self<=value.\n",
      " |  \n",
      " |  __len__(self, /)\n",
      " |      Return len(self).\n",
      " |  \n",
      " |  __lt__(self, value, /)\n",
      " |      Return self<value.\n",
      " |  \n",
      " |  __mul__(self, value, /)\n",
      " |      Return self*value.\n",
      " |  \n",
      " |  __ne__(self, value, /)\n",
      " |      Return self!=value.\n",
      " |  \n",
      " |  __repr__(self, /)\n",
      " |      Return repr(self).\n",
      " |  \n",
      " |  __reversed__(self, /)\n",
      " |      Return a reverse iterator over the list.\n",
      " |  \n",
      " |  __rmul__(self, value, /)\n",
      " |      Return value*self.\n",
      " |  \n",
      " |  __setitem__(self, key, value, /)\n",
      " |      Set self[key] to value.\n",
      " |  \n",
      " |  __sizeof__(self, /)\n",
      " |      Return the size of the list in memory, in bytes.\n",
      " |  \n",
      " |  append(self, object, /)\n",
      " |      Append object to the end of the list.\n",
      " |  \n",
      " |  clear(self, /)\n",
      " |      Remove all items from list.\n",
      " |  \n",
      " |  copy(self, /)\n",
      " |      Return a shallow copy of the list.\n",
      " |  \n",
      " |  count(self, value, /)\n",
      " |      Return number of occurrences of value.\n",
      " |  \n",
      " |  extend(self, iterable, /)\n",
      " |      Extend list by appending elements from the iterable.\n",
      " |  \n",
      " |  index(self, value, start=0, stop=9223372036854775807, /)\n",
      " |      Return first index of value.\n",
      " |      \n",
      " |      Raises ValueError if the value is not present.\n",
      " |  \n",
      " |  insert(self, index, object, /)\n",
      " |      Insert object before index.\n",
      " |  \n",
      " |  pop(self, index=-1, /)\n",
      " |      Remove and return item at index (default last).\n",
      " |      \n",
      " |      Raises IndexError if list is empty or index is out of range.\n",
      " |  \n",
      " |  remove(self, value, /)\n",
      " |      Remove first occurrence of value.\n",
      " |      \n",
      " |      Raises ValueError if the value is not present.\n",
      " |  \n",
      " |  reverse(self, /)\n",
      " |      Reverse *IN PLACE*.\n",
      " |  \n",
      " |  sort(self, /, *, key=None, reverse=False)\n",
      " |      Sort the list in ascending order and return None.\n",
      " |      \n",
      " |      The sort is in-place (i.e. the list itself is modified) and stable (i.e. the\n",
      " |      order of two equal elements is maintained).\n",
      " |      \n",
      " |      If a key function is given, apply it once to each list item and sort them,\n",
      " |      ascending or descending, according to their function values.\n",
      " |      \n",
      " |      The reverse flag can be set to sort in descending order.\n",
      " |  \n",
      " |  ----------------------------------------------------------------------\n",
      " |  Class methods defined here:\n",
      " |  \n",
      " |  __class_getitem__(...) from builtins.type\n",
      " |      See PEP 585\n",
      " |  \n",
      " |  ----------------------------------------------------------------------\n",
      " |  Static methods defined here:\n",
      " |  \n",
      " |  __new__(*args, **kwargs) from builtins.type\n",
      " |      Create and return a new object.  See help(type) for accurate signature.\n",
      " |  \n",
      " |  ----------------------------------------------------------------------\n",
      " |  Data and other attributes defined here:\n",
      " |  \n",
      " |  __hash__ = None\n",
      "\n"
     ]
    }
   ],
   "source": [
    "help(list)"
   ]
  },
  {
   "cell_type": "code",
   "execution_count": null,
   "id": "ec5d9a6b-3ee1-4d2c-b284-6a856af3ef08",
   "metadata": {},
   "outputs": [],
   "source": []
  }
 ],
 "metadata": {
  "kernelspec": {
   "display_name": "Python 3 (ipykernel)",
   "language": "python",
   "name": "python3"
  },
  "language_info": {
   "codemirror_mode": {
    "name": "ipython",
    "version": 3
   },
   "file_extension": ".py",
   "mimetype": "text/x-python",
   "name": "python",
   "nbconvert_exporter": "python",
   "pygments_lexer": "ipython3",
   "version": "3.11.7"
  }
 },
 "nbformat": 4,
 "nbformat_minor": 5
}
